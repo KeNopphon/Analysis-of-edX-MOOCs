{
 "cells": [
  {
   "cell_type": "markdown",
   "metadata": {},
   "source": [
    "# Application of doc2vec for edX MOOCs dataset\n",
    "\n",
    "\n",
    "## Introduction\n",
    "\n",
    "This is the first part of the analysis applied to the corpus of edX MOOCs.\n",
    "\n",
    "We trained doc2vec model on the corpus collected using https://github.com/TokyoTechX/web-crawler."
   ]
  },
  {
   "cell_type": "markdown",
   "metadata": {
    "collapsed": true
   },
   "source": [
    "## Loading the corpus\n",
    "\n",
    "We specify the directory where the textual data of 285 courses is stored. \n",
    "\n",
    "Each MOOC contains textual data from its html, video transcript and assessment components."
   ]
  },
  {
   "cell_type": "code",
   "execution_count": 1,
   "metadata": {
    "collapsed": true
   },
   "outputs": [],
   "source": [
    "foldername = \"/home/zarina/Documents/OEDO/web-crawler/HTMLs\""
   ]
  },
  {
   "cell_type": "markdown",
   "metadata": {},
   "source": [
    "## Preprocessing\n",
    "\n",
    "The data was preprocessed so that all the punctuation, numerical symbols and stop words were removed."
   ]
  },
  {
   "cell_type": "code",
   "execution_count": 2,
   "metadata": {
    "collapsed": true
   },
   "outputs": [],
   "source": [
    "import os,re,json\n",
    "import codecs,string\n",
    "from nltk.stem import PorterStemmer\n",
    "from nltk.tokenize import sent_tokenize, word_tokenize,wordpunct_tokenize\n",
    "from collections import Counter \n",
    "from nltk.corpus import stopwords\n",
    "\n",
    "def course_list(foldername,comp_type_code):\n",
    "    \n",
    "    courses = os.listdir(foldername)     \n",
    "    selected_comp_list = comp_type_selection(comp_type_code)\n",
    "    print(selected_comp_list)\n",
    "    course_path = []\n",
    "    for idx,course in enumerate(courses):\n",
    "        course_path.append(os.path.join(foldername,course))\n",
    "\n",
    "    return selected_comp_list,course_path\n",
    "\n",
    "def comp_type_selection(code):\n",
    "\n",
    "    selected_comp = []\n",
    "    if code[0] == '1':\n",
    "        selected_comp.append('all_textcomp.json')\n",
    "    if code[1] == '1':    \n",
    "        selected_comp.append('all_videocomp.json')\n",
    "    if code[2] == '1':    \n",
    "        selected_comp.append('all_probcomp.json')\n",
    "        \n",
    "    return selected_comp\n",
    "\n",
    "def text_preprocessing(raw,code):\n",
    "    \n",
    "    list_of_words = []\n",
    "    raw = re.sub(r\"https?:\\/\\/(www\\.)?[-a-zA-Z0-9@:%._\\+~#=]{2,256}\\.[a-z]{2,6}\\b([-a-zA-Z0-9@:%_\\+.~#?&//=]*)\",'', raw)\n",
    "    token = wordpunct_tokenize(raw)\n",
    "    stopword_obj = stopwords.words('english')\n",
    "    list_of_words=[]\n",
    "    steming_type = PorterStemmer()\n",
    "    for i in token:\n",
    "        processed_tmp = i.lower()\n",
    "        \n",
    "        if len(processed_tmp) == 1:\n",
    "            continue\n",
    "        \n",
    "        if code[0] == '1':\n",
    "            if not processed_tmp.isalpha():\n",
    "                continue\n",
    "        else:\n",
    "            if not processed_tmp.isalnum():\n",
    "                continue\n",
    "\n",
    "        if code[1] == '1':\n",
    "            if processed_tmp in stopword_obj:\n",
    "                continue\n",
    "     \n",
    "        if code[2] == '1':\n",
    "            processed_tmp = steming_type.stem(processed_tmp)\n",
    "        \n",
    "        list_of_words.append(processed_tmp)\n",
    "\n",
    "    return list_of_words\n",
    "    \n",
    "def extract_text_from_component(foldername,comp_type_code,processing_code):\n",
    "    \n",
    "    selected_comp_types, all_course_paths = course_list(foldername,comp_type_code)\n",
    "    clean_text_set =  dict()\n",
    "    raw_text_set = dict()\n",
    "    course_name_set = []\n",
    "    for course_path in all_course_paths:\n",
    "        course_name = os.path.basename(course_path)\n",
    "        all_text = []\n",
    "        all_raw_text = []\n",
    "        for comp_type in selected_comp_types:\n",
    "            with open(os.path.join(course_path,comp_type),'r',encoding='utf-8') as file:\n",
    "                if comp_type == 'all_videocomp.json':\n",
    "                    dict_parser = json.loads(file.read())\n",
    "                    for main_key, main_value in dict_parser.items():\n",
    "                        if type(main_value['transcript_en']) is dict:  \n",
    "                            continue\n",
    "                        raw_txt = main_value['transcript_en']\n",
    "                        clean_text = text_preprocessing(raw_txt,processing_code)\n",
    "                        if not clean_text:\n",
    "                            continue\n",
    "                        all_text += clean_text\n",
    "                else:\n",
    "                    dict_parser = json.loads(file.read())\n",
    "                    for main_key, main_value in dict_parser.items():\n",
    "                        raw_txt = main_value['content']\n",
    "                        all_raw_text.append(raw_txt)\n",
    "                        clean_text = text_preprocessing(raw_txt,processing_code)\n",
    "                        if not clean_text:\n",
    "                            continue\n",
    "                        all_text += clean_text\n",
    "\n",
    "        clean_text_set[course_name] = all_text\n",
    "        raw_text_set[course_name] = all_raw_text\n",
    "        course_name_set.append(course_name)\n",
    "        \n",
    "    return course_name_set,clean_text_set,raw_text_set"
   ]
  },
  {
   "cell_type": "code",
   "execution_count": 3,
   "metadata": {},
   "outputs": [
    {
     "name": "stdout",
     "output_type": "stream",
     "text": [
      "['all_textcomp.json', 'all_videocomp.json']\n"
     ]
    }
   ],
   "source": [
    "comp_type_code = '110'  # 1st digit = TEXTCOMP (1),  2ND digit = VIDEOCOMP(1), 3RD digit = PROBCOMP(1):  ex. 100 = only textcomp active \n",
    "processing_code = '110' # 1st digit = alpha(1),alphanumeric(0),  2ND digit = filter stopword(1) , 3RD digit = do stemming(1)\n",
    "\n",
    "course_name_set,clean_text_set,raw_text_set=extract_text_from_component(foldername,comp_type_code,processing_code)"
   ]
  },
  {
   "cell_type": "markdown",
   "metadata": {},
   "source": [
    "Loading the course labels (categories) from csv file. The labels are used for the classification task later."
   ]
  },
  {
   "cell_type": "code",
   "execution_count": 110,
   "metadata": {
    "collapsed": true
   },
   "outputs": [],
   "source": [
    "import pandas as pd\n",
    "\n",
    "colnames = ['course', 'subject']\n",
    "df = pd.read_csv('test.csv')\n",
    "csv_map=dict(zip(list(df.course), list(df.subject)))"
   ]
  },
  {
   "cell_type": "markdown",
   "metadata": {},
   "source": [
    "Load text data into the memory."
   ]
  },
  {
   "cell_type": "code",
   "execution_count": 57,
   "metadata": {},
   "outputs": [
    {
     "name": "stdout",
     "output_type": "stream",
     "text": [
      "Global_Social_Change\n"
     ]
    }
   ],
   "source": [
    "from gensim.models.doc2vec import TaggedDocument\n",
    "\n",
    "all_courses = []\n",
    "course_to_cat={}\n",
    "course_cnt = 0\n",
    "categories = set()\n",
    "\n",
    "for cur_name in course_name_set:\n",
    "    cur_name_csv=cur_name.replace('-_', '-').replace('_', ' ') # remove discrepancy in course labels\n",
    "    if cur_name_csv in csv_map:\n",
    "        if course_cnt==0:\n",
    "            print (cur_name)\n",
    "        cat=csv_map[cur_name_csv]\n",
    "        categories.add(cat)\n",
    "        doc_i=TaggedDocument(clean_text_set[cur_name], [cur_name])\n",
    "        all_courses.append(doc_i)\n",
    "        course_cnt+=1\n",
    "        course_to_cat[cur_name]=cat\n",
    "    \n",
    "#input to doc2vec\n",
    "doc_list = all_courses[:]"
   ]
  },
  {
   "cell_type": "markdown",
   "metadata": {},
   "source": [
    " Saving courses and corresponding categories into csv file"
   ]
  },
  {
   "cell_type": "code",
   "execution_count": 109,
   "metadata": {},
   "outputs": [],
   "source": [
    "import csv\n",
    "\n",
    "csv_file = 'course_to_cat.csv'\n",
    "csv_columns = ['course', 'category']\n",
    "\n",
    "with open(csv_file, 'w') as csvfile:\n",
    "            writer = csv.DictWriter(csvfile, fieldnames=csv_columns)\n",
    "            writer.writeheader()\n",
    "            for key, value in course_to_cat.items():\n",
    "                writer.writerow({'course': key, 'category': value})"
   ]
  },
  {
   "cell_type": "code",
   "execution_count": 93,
   "metadata": {},
   "outputs": [
    {
     "data": {
      "text/plain": [
       "{'AP_Computer_Science_A-_Java_Programming': 'Computer Science',\n",
       " 'AP_English_Literature__Composition__Part_1-_Stories': 'Literature',\n",
       " 'AP_English_Literature__Composition__Part_2-_Poems': 'Literature',\n",
       " 'A_History_of_Violence-_From_the_Middle_Ages_to_Modern_Times': 'History',\n",
       " 'A_System_View_of_Communications-_From_Signals_to_Packets_Part_1': 'Computer Science',\n",
       " 'Accessible_Gamification': 'Computer Science',\n",
       " 'Accounting_for_Decision-Making': 'Business & Management',\n",
       " 'Advancing_Learning_Through_Evidence-Based_STEM_Teaching': 'Engineering',\n",
       " 'Age_of_Globalization': 'Business & Management',\n",
       " 'Agile_Development_Using_Ruby_on_Rails_-_The_Basics': 'Computer Science',\n",
       " 'American_Capitalism-_A_History': 'Business & Management',\n",
       " 'An_Introduction_to_Evidence-Based_Undergraduate_STEM_Teaching': 'Education & Teacher Training',\n",
       " 'Analytics_in_Python': 'Business & Management',\n",
       " 'Applications_of_Linear_Algebra_Part_2': 'Computer Science',\n",
       " 'Artful_Medicine': 'Medicine',\n",
       " 'Autonomous_Navigation_for_Flying_Robots': 'Computer Science',\n",
       " 'Basic_Mandarin_Chinese_-_Level_2': 'Language',\n",
       " 'Basic_Mandarin_Chinese__Level_3': 'Language',\n",
       " 'Becoming_a_Resilient_Person-_The_Science_of_Stress_Management_and_Promoting_Wellbeing': 'Communication',\n",
       " 'Big_Bang_and_the_Origin_of_Chemical_Elements': 'Physics',\n",
       " 'Big_Data_Strategies_to_Transform_Your_Business': 'Business & Management',\n",
       " 'Biological_Engineering-_Cellular_Design_Principles': 'Engineering',\n",
       " 'Book_Sleuthing-_The_Nineteenth_Century': 'Humanities',\n",
       " 'Business_Accounting_Basics': 'Business & Management',\n",
       " 'Business_and_Its_Environment-_An_Overview_of_Business_and_the_Role_of_Finance': 'Business & Management',\n",
       " 'Calculus_1A-_Differentiation': 'Math',\n",
       " 'Calculus_1B-_Integration': 'Math',\n",
       " 'Capstone_Project': 'Computer Science',\n",
       " 'Causal_Diagrams-_Draw_Your_Assumptions_Before_Your_Conclusions': 'Data Analysis & Statistics',\n",
       " 'Cellular_Solids_1-_Structures_Properties_and_Engineering_Applications': 'Engineering',\n",
       " 'Cement_Chemistry_and_Sustainable_Cementitious_Materials': 'Science',\n",
       " 'ChinaX_Part_1-_Political_and_Intellectual_Foundations-_From_the_Sage_Kings_to_Confucius_and_the_Legalists': 'History',\n",
       " 'ChinaX_Part_8-_Creating_Modern_China-_The_Birth_of_a_Nation': 'History',\n",
       " 'China_Humanities-_The_Individual_in_Chinese_Culture': 'Humanities',\n",
       " 'Chinese_Thought-_Ancient_Wisdom_Meets_Modern_Science_-_Part_1': 'Art & Culture',\n",
       " 'Chinese_Thought-_Ancient_Wisdom_Meets_Modern_Science_-_Part_2': 'Art & Culture',\n",
       " 'Cloud_Computing_Infrastructure': 'Computer Science',\n",
       " 'Cloud_Computing_Security': 'Computer Science',\n",
       " 'Cognitive_Neuroscience_Robotics__Part_A': 'Engineering',\n",
       " 'Communication_Acoustics': 'Engineering',\n",
       " 'Compliance_in_Office_365-_Data_Governance': 'Computer Science',\n",
       " 'Compliance_in_Office_365-_eDiscovery': 'Computer Science',\n",
       " 'Computation_Structures_3-_Computer_Organization': 'Computer Science',\n",
       " 'Computational_Probability_and_Inference': 'Data Analysis & Statistics',\n",
       " 'Computer_System_Design-_Advanced_Concepts_of_Modern_Microprocessors': 'Computer Science',\n",
       " 'Computer_Systems_Design_for_Energy_Efficiency': 'Computer Science',\n",
       " 'Computing-_Art_Magic_Science': 'Computer Science',\n",
       " 'Configuring_SharePoint_Hybrid': 'Computer Science',\n",
       " 'Counseling_and_Psychotherapy_Theory': 'Social Sciences',\n",
       " 'Credit_Risk_Management': 'Business & Management',\n",
       " 'Critical_Thinking__Problem_Solving': 'Communication',\n",
       " 'Culture_of_Services-_New_Perspective_on_Customer_Relations': 'Business & Management',\n",
       " 'Cyber_Security_Economics': 'Computer Science',\n",
       " 'Cybersecurity_Fundamentals': 'Computer Science',\n",
       " 'Cyberwar_Surveillance_and_Security': 'Law',\n",
       " 'DNA_Sequences-_Alignments_and_Analysis': 'Biology & Life Sciences',\n",
       " 'DNA_and_Atoms-_The_Secret_of_Life': 'Physics',\n",
       " 'DO_Your_Venture_-_Entrepreneurship_for_Everyone': 'Business & Management',\n",
       " 'Data_Analysis-_Visualization_and_Dashboard_Design': 'Data Analysis & Statistics',\n",
       " 'Data_Analytics_in_Health__From_Basics_to_Business': 'Medicine',\n",
       " 'Data_Visualization_for_All': 'Data Analysis & Statistics',\n",
       " 'Deciphering_Secrets-_Unlocking_the_Manuscripts_of_Medieval_Burgos_Spain': 'History',\n",
       " 'Democracy_and_Development-_Perspectives_from_Africa': 'Social Sciences',\n",
       " 'Democratic_to_Authoritarian_Rule': 'History',\n",
       " 'Design_and_Development_of_Educational_Technology': 'Education & Teacher Training',\n",
       " 'Designing_for_Experimentation_to_Enhance_Digital_Business_Innovation': 'Computer Science',\n",
       " 'Developing_Intelligent_Apps_and_Bots': 'Computer Science',\n",
       " 'Developing_Windows_10_Universal_Apps__Part_2': 'Computer Science',\n",
       " 'Developing_Windows_10_Universal_Apps__Part_3': 'Computer Science',\n",
       " 'Differential_Equations-_2x2_Systems': 'Math',\n",
       " 'Digital_Dividends-_Strengthening_the_Analog_Foundation_of_the_Digital_Revolution': 'Economics & Finance',\n",
       " 'Digital_Networks_Essentials': 'Computer Science',\n",
       " 'Digital_Strategy_and_Action': 'Business & Management',\n",
       " 'Digital_Transformation_Strategy': 'Business & Management',\n",
       " 'Discrete_Time_Signals_and_Systems_Part_2-_Frequency_Domain': 'Engineering',\n",
       " 'Effective_Thinking_Through_Mathematics': 'Math',\n",
       " 'Electric_Cars-Introduction': 'Engineering',\n",
       " 'Electric_and_Conventional_Vehicles': 'Engineering',\n",
       " 'Electronic_Materials_and_Devices': 'Engineering',\n",
       " 'Embedded_Systems_-_Shape_The_World-_Microcontroller_Input-output': 'Computer Science',\n",
       " 'Enabling_Office_365_Clients': 'Computer Science',\n",
       " 'Engagement_in_a_Time_of_Polarization': 'Social Sciences',\n",
       " 'English_for_Doing_Business_in_Asia_-_Speaking': 'Business & Management',\n",
       " 'English_for_Doing_Business_in_Asia_-_Writing': 'Business & Management',\n",
       " 'Entrepreneurship_for_Global_Challenges_in_EmergingMarkets': 'Business & Management',\n",
       " 'European_Paintings-_From_Leonardo_to_Rembrandt_to_Goya': 'Art & Culture',\n",
       " 'Evaluating_Designs_with_Users': 'Design',\n",
       " 'Evaluating_Social_Programs': 'Economics & Finance',\n",
       " 'Explore_Statistics_with_R': 'Data Analysis & Statistics',\n",
       " 'Faith_and_Finance': 'Humanities',\n",
       " 'Financial_Decision_Making': 'Business & Management',\n",
       " 'Flood_Risk_Management': 'Environmental Studies',\n",
       " 'Force_and_Motion-_Pedagogical_Content_Knowledge_for_Teaching_Physics': 'Education & Teacher Training',\n",
       " 'Foreign_Exchange_Markets-_Instruments_Risks_and_Derivatives': 'Economics & Finance',\n",
       " 'Formal_Software_Verification': 'Computer Science',\n",
       " 'Fun_with_Prime_Numbers-_The_Mysterious_World_of_Mathematics': 'Math',\n",
       " 'Fundamentals_of_Manufacturing_Processes': 'Engineering',\n",
       " 'Fundamentals_of_Nanoelectronics-_Basic_Concepts': 'Electronics',\n",
       " 'Gameplay_Programming_for_Video_Game_Designers': 'Computer Science',\n",
       " 'Global_Health__The_Lessons_of_Ebola': 'Health & Safety',\n",
       " 'Global_Inequality': 'Social Sciences',\n",
       " 'Global_Marketing_Strategy': 'Business & Management',\n",
       " 'Global_Social_Change': 'Social Sciences',\n",
       " 'Global_Sociology': 'Social Sciences',\n",
       " 'Global_Warming_Science': 'Physics',\n",
       " 'Globalizations_Winners_and_Losers': 'Business & Management',\n",
       " 'Graphene_Science_and_Technology': 'Engineering',\n",
       " 'Healthcare_in_India-_Strategic_Perspectives': 'Business & Management',\n",
       " 'Hong_Kong_Cinema_Through_a_Global_Lens': 'Humanities',\n",
       " 'Hospitality_and_Tourism_in_China-_A_Global_Perspective': 'Business & Management',\n",
       " 'How_Media_Got_Social': 'Communication',\n",
       " 'How_Stuff_Moves_Part_1-_Linear_Motion': 'Physics',\n",
       " 'How_Stuff_Moves_Part_2-_Angular_Motion': 'Physics',\n",
       " 'How_Stuff_Moves_Part_3-_Wave_Motion': 'Physics',\n",
       " 'How_to_Write_an_Essay': 'Humanities',\n",
       " 'Human_Rights-_The_Right_to_Freedom_of_Expression': 'Social Sciences',\n",
       " 'Human_Rights_Activism_Advocacy_and_Change_T2_2017': 'Social Sciences',\n",
       " 'Human_Rights_Theory_and_Philosophy_T2_2017': 'Social Sciences',\n",
       " 'Human_Rights_and_Development_T3_2017': 'Social Sciences',\n",
       " 'Human_Spaceflight_-_An_introduction': 'Engineering',\n",
       " 'Humanity_and_Nature_in_Chinese_Thought': 'Art & Culture',\n",
       " 'I_Heart_Stats-_Learning_to_Love_Statistics': 'Math',\n",
       " 'Ignorance': 'Social Sciences',\n",
       " 'Implementation_and_Evaluation_of_Educational_Technology': 'Education & Teacher Training',\n",
       " 'Industrial_Biotechnology': 'Biology & Life Sciences',\n",
       " 'Information_Systems_and_Computer_Applications_Part_5-_Social_Implications': 'Computer Science',\n",
       " 'Innovation_Generation-_How_to_Be_Creative': 'Science',\n",
       " 'Innovation_Leadership': 'Business & Management',\n",
       " 'International_Business_Environment_and_Global_Strategy': 'Business & Management',\n",
       " 'Introduction_to_Accounting_-_1': 'Business & Management',\n",
       " 'Introduction_to_Animal_Ethics': 'Philosophy & Ethics',\n",
       " 'Introduction_to_Bioelectricity': 'Engineering',\n",
       " 'Introduction_to_Corporate_Finance': 'Business & Management',\n",
       " 'Introduction_to_Data_Science': 'Computer Science',\n",
       " 'Introduction_to_Data_Structures': 'Computer Science',\n",
       " 'Introduction_to_Engineering_Mathematics_with_Applications': 'Math',\n",
       " 'Introduction_to_Global_Hospitality_Management': 'Business & Management',\n",
       " 'Introduction_to_Human_Evolution': 'Biology & Life Sciences',\n",
       " 'Introduction_to_Social_Research_Methods': 'Social Sciences',\n",
       " 'Introduction_to_Sociology': 'Social Sciences',\n",
       " 'Introduction_to_Web_Cartography-_Part_1': 'Engineering',\n",
       " 'Introduction_to_the_Internet_of_Things_IoT': 'Computer Science',\n",
       " 'Jesus_in_Scripture_and_Tradition': 'Humanities',\n",
       " 'Journalism_for_Social_Change': 'Communication',\n",
       " 'Just_Money-_Banking_as_if_Society_Mattered': 'Business & Management',\n",
       " 'LAFF-On_Programming_for_Correctness': 'Computer Science',\n",
       " 'Leadership_and_Management_for_PM_Practitioners_in_IT': 'Business & Management',\n",
       " 'Leadership_for_Engineers': 'Business & Management',\n",
       " 'Leading_in_the_Digital_Age': 'Business & Management',\n",
       " 'Lean_Production': 'Business & Management',\n",
       " 'Lessons_from_Ebola-_Preventing_the_Next_Pandemic': 'Health & Safety',\n",
       " 'Library_Advocacy_Unshushed': 'Art & Culture',\n",
       " 'Linear_Differential_Equations': 'Math',\n",
       " 'Luxury_Management': 'Business & Management',\n",
       " 'Magnetic_Materials_and_Devices': 'Engineering',\n",
       " 'Make_Your_Own_App': 'Computer Science',\n",
       " 'Making_Science_and_Engineering_Pictures-_A_Practical_Guide_to_Presenting_Your_Work': 'Communication',\n",
       " 'Making_and_Meaning_in_the_Medieval_Manuscript': 'Humanities',\n",
       " 'Managing_Building_Adaptation-_A_Sustainable_Approach': 'Business & Management',\n",
       " 'Managing_Marketing_in_the_Hospitality_and_Tourism_Industry': 'Business & Management',\n",
       " 'Managing_SQL_Database_Transactions_and_Concurrency': 'Computer Science',\n",
       " 'Marketing_Management': 'Business & Management',\n",
       " 'Master_Control_in_Supply_Chain_Management_and_Logistics': 'Business & Management',\n",
       " 'Math_in_Sports': 'Math',\n",
       " 'Mathematical_Modeling_in_the_Life_Sciences_': 'Math',\n",
       " 'Mathematical_Modelling_Basics': 'Math',\n",
       " 'Measuring_Health_Outcomes_in_Field_Surveys': 'Health & Safety',\n",
       " 'Mechanics-_Kinematics_and_Dynamics': 'Physics',\n",
       " 'Mechanics-_Momentum_and_Energy': 'Physics',\n",
       " 'Microsoft_Professional_Orientation_-_Front_End_Web_Development': 'Computer Science',\n",
       " 'Microsoft_SharePoint_2016-_Authentication_and_Security': 'Computer Science',\n",
       " 'Microsoft_SharePoint_2016-_Infrastructure': 'Computer Science',\n",
       " 'Microsoft_SharePoint_2016-_Productivity_Solutions': 'Computer Science',\n",
       " 'Microsoft_SharePoint_2016-_Search_and_Content_Management': 'Computer Science',\n",
       " 'Microsoft_SharePoint_2016-_Workload_Optimization': 'Computer Science',\n",
       " 'Microsoft_SharePoint_Online_for_Site_Administrators': 'Computer Science',\n",
       " 'Minecraft_Coding_and_Teaching': 'Education & Teacher Training',\n",
       " 'Mobile_Application_Experiences': 'Computer Science',\n",
       " 'Mobile_Application_Experiences_Part_2-_Mobile_App_Design': 'Computer Science',\n",
       " 'Modeling_Climate_Change': 'Environmental Studies',\n",
       " 'Monasteries_Schools_and_Notaries_Part_1-_Reading_the_Late_Medieval_Marseille_Archive': 'Humanities',\n",
       " 'Multilevel_Converters_for_Medium-High-Power_Applications': 'Engineering',\n",
       " 'Music_For_Wellness': 'Humanities',\n",
       " 'MyCS-_Computer_Science_for_Beginners': 'Computer Science',\n",
       " 'Nanophotonic_Modeling': 'Engineering',\n",
       " 'Networks_Crowds_and_Markets': 'Computer Science',\n",
       " 'Neuronal_Dynamics': 'Computer Science',\n",
       " 'Nonlinear_Differential_Equations-_Order_and_Chaos': 'Math',\n",
       " 'Nuclear_Reactor_Physics_Basics': 'Physics',\n",
       " 'Office_365-_SharePoint_Online_Administrator': 'Computer Science',\n",
       " 'Omnichannel_Strategy_and_Management': 'Business & Management',\n",
       " 'On-Ramp_to_AP_Calculus': 'Math',\n",
       " 'Operations_Management': 'Business & Management',\n",
       " 'Optical_Materials_and_Devices': 'Engineering',\n",
       " 'Optimization_Methods_in_Business_Analytics': 'Math',\n",
       " 'Paradigms_of_Computer_Programming_-_Abstraction_and_Concurrency': 'Computer Science',\n",
       " 'People_Management': 'Business & Management',\n",
       " 'Personal_Finance_1-_Investing_in_yourself_and_making_the_most_of_your_investment': 'Economics & Finance',\n",
       " 'Planning_and_Preparing_SharePoint_Hybrid': 'Computer Science',\n",
       " 'Portfolio_Management_Governance__the_PMO': 'Business & Management',\n",
       " 'Positive_Behavior_Support_for_Young_Children': 'Communication',\n",
       " 'Practical_Improvement_Science_in_Health_Care-_A_Roadmap_for_Getting_Results_V2': 'Business & Management',\n",
       " 'Practical_Learning_Analytics': 'Data Analysis & Statistics',\n",
       " 'Preparing_for_the_AP_Computer_Science_A_Exam_Part_2': 'Computer Science',\n",
       " 'Principles_of_Designing_for_Humans': 'Computer Science',\n",
       " 'Principles_of_Economics_with_Calculus': 'Business & Management',\n",
       " 'Print_and_Manuscript_in_Western_Europe_Asia_and_the_Middle_East_1450-1650': 'Humanities',\n",
       " 'Project_Management_of_Engineering_Projects-_Preparing_for_Success': 'Business & Management',\n",
       " 'Proteins-_Alignment_Analysis_and_Structure': 'Biology & Life Sciences',\n",
       " 'Provisioning_Office_365_Services': 'Computer Science',\n",
       " 'Python_for_Data_Science': 'Computer Science',\n",
       " 'Quantum_Cryptography': 'Computer Science',\n",
       " 'Quantum_Information_Science_I_Part_1': 'Computer Science',\n",
       " 'Quantum_Mechanics-_1D_Scattering_and_Central_Potentials': 'Physics',\n",
       " 'Quantum_Mechanics-_Wavefunctions_operators_and_expectation_values': 'Physics',\n",
       " 'Queuing_Theory-_from_Markov_Chains_to_Multi-Server_Systems': 'Math',\n",
       " 'Realtime_Bluetooth_Networks': 'Computer Science',\n",
       " 'Reliable_Distributed_Algorithms_-_Part_2': 'Computer Science',\n",
       " 'Results-Based_Project_Management-_Monitoring_and_Evaluation': 'Business & Management',\n",
       " 'Retail_Fundamentals': 'Business & Management',\n",
       " 'Risk_Management_for_Projects': 'Business & Management',\n",
       " 'Robot_Mechanics_and_Control_Part_I': 'Electronics',\n",
       " 'Robot_Mechanics_and_Control_Part_II': 'Computer Science',\n",
       " 'Robotics': 'Engineering',\n",
       " 'Science__Cooking-_From_Haute_Cuisine_to_Soft_Matter_Science_part_1': 'Physics',\n",
       " 'Science_in_Art-_The_Chemistry_of_Art_Materials_and_Conservation': 'Chemistry',\n",
       " 'Scrolls_in_the_Age_of_the_Book': 'Humanities',\n",
       " 'Sex_Science_and_Society': 'Social Sciences',\n",
       " 'Shakespeare_Matters': 'Literature',\n",
       " 'Shakespeare_On_the_Page_and_in_Performance-_Tragic_Love': 'Literature',\n",
       " 'Shakespeare_On_the_Page_and_in_Performance-_Young_Love': 'Literature',\n",
       " 'SharePoint_Enterprise_Content_Management': 'Computer Science',\n",
       " 'Signals_and_Systems_Part_1': 'Engineering',\n",
       " 'Socially-Responsible_Real_Estate_Development-_Learning_to_Use_Impact_Assessment_Tools_Effectively': 'Social Sciences',\n",
       " 'Software_Construction_in_Java': 'Computer Science',\n",
       " 'Software_Testing_Fundamentals': 'Computer Science',\n",
       " 'Software_Testing_Management': 'Computer Science',\n",
       " 'Solar_Energy-_Photovoltaic_PV_Systems': 'Engineering',\n",
       " 'States_and_Markets_in_a_Global_Economy': 'Business & Management',\n",
       " 'Statistical_Analysis_in_Bioinformatics': 'Biology & Life Sciences',\n",
       " 'Statistics_and_Probability_in_Data_Science_using_Python': 'Data Analysis & Statistics',\n",
       " 'Statistics_for_Business_-_II': 'Business & Management',\n",
       " 'Strategic_Applications_of_IT_Project__Program_Management': 'Business & Management',\n",
       " 'Strategic_Management': 'Business & Management',\n",
       " 'Strategic_Management-_From_Intuition_to_Insight': 'Business & Management',\n",
       " 'Structural_Materials-_Selection_and_Economics': 'Engineering',\n",
       " 'Supply_Chain_Management-_A_Decision-Making_Framework': 'Business & Management',\n",
       " 'Sustainability_Resilience_and_Society': 'Social Sciences',\n",
       " 'Sustainable_Energy-_Design_a_Renewable_Future': 'Energy & Earth Sciences',\n",
       " 'Symmetry_Structure_and_Tensor_Properties_of_Materials': 'Chemistry',\n",
       " 'Tangible_Things': 'History',\n",
       " 'The_Art_of_Poetry': 'Literature',\n",
       " 'The_Beauty_and_Joy_of_Computing_-_AP_CS_Principles_Part_1': 'Computer Science',\n",
       " 'The_Computing_Technology_Inside_Your_Smartphone': 'Computer Science',\n",
       " 'The_Conscious_Mind-_A_Philosophical_Road_Trip': 'Philosophy & Ethics',\n",
       " 'The_Conscious_Mind_-_A_Philosophical_Road_Trip': 'Humanities',\n",
       " 'The_Engineering_of_Structures_Around_Us': 'Engineering',\n",
       " 'The_Ethics_of_Memory': 'Philosophy & Ethics',\n",
       " 'The_Great_War_and_Modern_Philosophy': 'Philosophy & Ethics',\n",
       " 'The_History_of_the_Book_in_17th_and_18th_Century_Europe': 'Humanities',\n",
       " 'The_Iterative_Innovation_Process': 'Business & Management',\n",
       " 'The_Medieval_Icelandic_Sagas': 'Humanities',\n",
       " 'The_Quantum_World': 'Chemistry',\n",
       " 'The_Science_and_Politics_of_the_GMO': 'Science',\n",
       " 'The_Science_and_Practice_of_Yoga': 'Health & Safety',\n",
       " 'The_Science_of_Parenting': 'Social Sciences',\n",
       " 'The_Search_for_Vernacular_Architecture_of_Asia_Part_1': 'Architecture',\n",
       " 'Thermodynamics': 'Engineering',\n",
       " 'Transfer_Functions_and_the_Laplace_Transform': 'Math',\n",
       " 'Trends_in_e-Psychology': 'Health & Safety',\n",
       " 'U.S._Government_-_Foundations_Democracy__Politics': 'History',\n",
       " 'US_Voting_Access_and_Fraud': 'Social Sciences',\n",
       " 'Underactuated_Robotics': 'Computer Science',\n",
       " 'Understanding_Wireless-_Technology_Economics_and_Policy': 'Business & Management',\n",
       " 'Urban_Water_-_Innovations_for_Environmental_Sustainability': 'Environmental Studies',\n",
       " 'Vacuum_Systems_and_Technology': 'Engineering',\n",
       " 'Video_Game_Asset_Creation_and_Process': 'Computer Science',\n",
       " 'Vocal_Recording_Technology': 'Engineering',\n",
       " 'Was_Alexander_Great': 'History',\n",
       " 'Waves__Optics': 'Physics',\n",
       " 'Web_Security_Fundamentals': 'Computer Science',\n",
       " 'Windows_Server_2016-_Azure_for_On-Premises_Administrators': 'Computer Science',\n",
       " 'Writing_Case_Studies-_Science_of_Delivery': 'Social Sciences',\n",
       " 'eHealth__Opportunities_and_Challenges': 'Computer Science',\n",
       " 'u.lab-_Leading_From_the_Emerging_Future': 'Business & Management'}"
      ]
     },
     "execution_count": 93,
     "metadata": {},
     "output_type": "execute_result"
    }
   ],
   "source": [
    "course_to_cat"
   ]
  },
  {
   "cell_type": "markdown",
   "metadata": {},
   "source": [
    "## Seting up doc2vec model\n",
    "\n",
    "We use two models:\n",
    "* doc2vec based on DBOW (dm=0)\n",
    "* doc2vec based on DM (dm=1)\n",
    "    \n",
    "with the document vector length of 200, and context window size of 8."
   ]
  },
  {
   "cell_type": "code",
   "execution_count": 17,
   "metadata": {},
   "outputs": [
    {
     "name": "stdout",
     "output_type": "stream",
     "text": [
      "Doc2Vec(dbow+w,d200,n5,w8,mc19,s0.001,t8)\n",
      "Doc2Vec(dm/m,d200,n5,w8,mc19,s0.001,t8)\n",
      "CPU times: user 25min 34s, sys: 1.04 s, total: 25min 35s\n",
      "Wall time: 3min 20s\n",
      "CPU times: user 4min 58s, sys: 488 ms, total: 4min 59s\n",
      "Wall time: 41.7 s\n"
     ]
    }
   ],
   "source": [
    "import gensim\n",
    "from gensim.models import Doc2Vec\n",
    "import multiprocessing\n",
    "\n",
    "cores = multiprocessing.cpu_count()\n",
    "\n",
    "assert gensim.models.doc2vec.FAST_VERSION > -1, \"This will be painfully slow otherwise\"\n",
    "\n",
    "models = [\n",
    "    # PV-DBOW \n",
    "    Doc2Vec(dm=0, dbow_words=1, vector_size=200, window=8, min_count=19, epochs=20, workers=cores),\n",
    "    # PV-DM w/average\n",
    "    Doc2Vec(dm=1, dm_mean=1, vector_size=200, window=8, min_count=19, epochs =20, workers=cores),\n",
    "]\n",
    "\n",
    "models[0].build_vocab(doc_list)\n",
    "print(str(models[0]))\n",
    "models[1].reset_from(models[0])\n",
    "print(str(models[1]))\n",
    "for model in models:\n",
    "    %%time model.train(doc_list, total_examples=model.corpus_count, epochs=model.epochs)"
   ]
  },
  {
   "cell_type": "markdown",
   "metadata": {},
   "source": [
    "## Calculating similarity between MOOCs"
   ]
  },
  {
   "cell_type": "code",
   "execution_count": 45,
   "metadata": {},
   "outputs": [
    {
     "name": "stdout",
     "output_type": "stream",
     "text": [
      "Doc2Vec(dbow+w,d200,n5,w8,mc19,s0.001,t8) \n",
      "\n",
      "Most similar courses to  Compliance_in_Office_365-_Data_Governance  are: \n",
      " [('Compliance_in_Office_365-_eDiscovery', 0.6079649925231934), ('Microsoft_SharePoint_2016-_Search_and_Content_Management', 0.4997135102748871), ('Office_365-_SharePoint_Online_Administrator', 0.496964693069458), ('Provisioning_Office_365_Services', 0.469723641872406), ('Microsoft_SharePoint_2016-_Authentication_and_Security', 0.46946612000465393), ('Microsoft_SharePoint_2016-_Workload_Optimization', 0.46710318326950073), ('Microsoft_SharePoint_2016-_Infrastructure', 0.43522870540618896), ('Microsoft_SharePoint_Online_for_Site_Administrators', 0.4127456545829773), ('Configuring_SharePoint_Hybrid', 0.393161416053772), ('Microsoft_SharePoint_2016-_Productivity_Solutions', 0.39244675636291504)] \n",
      "\n",
      "Doc2Vec(dm/m,d200,n5,w8,mc19,s0.001,t8) \n",
      "\n",
      "Most similar courses to  Compliance_in_Office_365-_Data_Governance  are: \n",
      " [('Compliance_in_Office_365-_eDiscovery', 0.6992765665054321), ('Office_365-_SharePoint_Online_Administrator', 0.6061806678771973), ('Microsoft_SharePoint_2016-_Authentication_and_Security', 0.6029965877532959), ('Microsoft_SharePoint_2016-_Search_and_Content_Management', 0.5976791381835938), ('Microsoft_SharePoint_2016-_Workload_Optimization', 0.5593832731246948), ('Microsoft_SharePoint_2016-_Productivity_Solutions', 0.5336045622825623), ('Provisioning_Office_365_Services', 0.5288414359092712), ('Microsoft_SharePoint_2016-_Infrastructure', 0.525094211101532), ('Configuring_SharePoint_Hybrid', 0.511488676071167), ('Microsoft_SharePoint_Online_for_Site_Administrators', 0.4774423837661743)] \n",
      "\n"
     ]
    }
   ],
   "source": [
    "#checks\n",
    "for model in models:\n",
    "    print (model, '\\n')\n",
    "    sims = model.docvecs.most_similar(course_name_set[1])\n",
    "    print (\"Most similar courses to \", course_name_set[1], \" are: \\n\",  sims, '\\n')\n"
   ]
  },
  {
   "cell_type": "markdown",
   "metadata": {},
   "source": [
    "We can also compare similarities between words in the corpus."
   ]
  },
  {
   "cell_type": "code",
   "execution_count": 53,
   "metadata": {},
   "outputs": [
    {
     "name": "stdout",
     "output_type": "stream",
     "text": [
      "[ 0.20589416  0.49491093 -0.11974067 -0.30048046]\n",
      "[ 0.33363882  0.55245304  0.13124876 -0.10792442]\n"
     ]
    },
    {
     "data": {
      "text/plain": [
       "0.54820123721292613"
      ]
     },
     "execution_count": 53,
     "metadata": {},
     "output_type": "execute_result"
    }
   ],
   "source": [
    "print (model0.wv['java'][0:4])\n",
    "print (model0.wv['python'][0:4])\n",
    "model0.wv.similarity('java', 'python')"
   ]
  },
  {
   "cell_type": "markdown",
   "metadata": {},
   "source": [
    "## Saving and loading the trained models for fast inference"
   ]
  },
  {
   "cell_type": "code",
   "execution_count": 47,
   "metadata": {
    "collapsed": true
   },
   "outputs": [],
   "source": [
    "for i in range(len(models)):\n",
    "    models[i].save(\"model\" + str(i))"
   ]
  },
  {
   "cell_type": "markdown",
   "metadata": {},
   "source": [
    "Loaded model can be retrained later"
   ]
  },
  {
   "cell_type": "code",
   "execution_count": 56,
   "metadata": {},
   "outputs": [],
   "source": [
    "model0 = Doc2Vec.load(\"model0\")"
   ]
  },
  {
   "cell_type": "markdown",
   "metadata": {},
   "source": [
    "For more information on gensim doc2vec https://github.com/RaRe-Technologies/gensim/blob/develop/tutorials.md"
   ]
  }
 ],
 "metadata": {
  "kernelspec": {
   "display_name": "Python 3",
   "language": "python",
   "name": "python3"
  },
  "language_info": {
   "codemirror_mode": {
    "name": "ipython",
    "version": 3
   },
   "file_extension": ".py",
   "mimetype": "text/x-python",
   "name": "python",
   "nbconvert_exporter": "python",
   "pygments_lexer": "ipython3",
   "version": "3.6.3"
  }
 },
 "nbformat": 4,
 "nbformat_minor": 2
}
